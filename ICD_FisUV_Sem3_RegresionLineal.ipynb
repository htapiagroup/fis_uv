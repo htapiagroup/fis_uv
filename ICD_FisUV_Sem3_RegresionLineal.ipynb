{
  "nbformat": 4,
  "nbformat_minor": 0,
  "metadata": {
    "kernelspec": {
      "display_name": "Python 2",
      "language": "python",
      "name": "python2"
    },
    "language_info": {
      "codemirror_mode": {
        "name": "ipython",
        "version": 2
      },
      "file_extension": ".py",
      "mimetype": "text/x-python",
      "name": "python",
      "nbconvert_exporter": "python",
      "pygments_lexer": "ipython2",
      "version": "2.7.15"
    },
    "colab": {
      "name": "ICD_FisUV_Sem3_RegresionLineal.ipynb",
      "provenance": [],
      "collapsed_sections": [],
      "include_colab_link": true
    }
  },
  "cells": [
    {
      "cell_type": "markdown",
      "metadata": {
        "id": "view-in-github",
        "colab_type": "text"
      },
      "source": [
        "<a href=\"https://colab.research.google.com/github/htapiagroup/fis_uv/blob/master/ICD_FisUV_Sem3_RegresionLineal.ipynb\" target=\"_parent\"><img src=\"https://colab.research.google.com/assets/colab-badge.svg\" alt=\"Open In Colab\"/></a>"
      ]
    },
    {
      "cell_type": "markdown",
      "metadata": {
        "id": "VwxI8uyyXy9S",
        "colab_type": "text"
      },
      "source": [
        "# Introduccion a la Ciencia de Datos\n",
        "Overview\n",
        "Duration: 0:02:00\n",
        "\n",
        "En estas semanas usaremos el modelo familiar de regresion lineal para describir las dificultades de el uso de tecnicas y algoritmos tradicionales para el analisis de datos actuales.\n",
        "\n",
        "A traves de una descripcion matricial del problema de determinar los parametros optimos para una modelo lineal entre la variable objetivo y los atributos, aplicada a un problema sencillo de determinar la relacion lineal $T^2 \\propto L$ entre un pendulo simple, se introducce el algoritmo del descenso por el gradiente. Despues se implementa el algoritmo usando metodos vectoriales y procurando evitar repeticiones usando `for` o metodos similares y finalmente se discute un algoritmo que puede actualizarse en tiempo casi real. "
      ]
    },
    {
      "cell_type": "markdown",
      "metadata": {
        "id": "IDJDEBhhXq-9",
        "colab_type": "text"
      },
      "source": [
        "## Regresion Lineal\n",
        "\n",
        "Para presentar la idea de regresion lineal se usaran los datos siguientes:"
      ]
    },
    {
      "cell_type": "code",
      "metadata": {
        "id": "2SpHQC2CXq_F",
        "colab_type": "code",
        "colab": {}
      },
      "source": [
        "from pandas.compat import StringIO\n",
        "import pandas as pd"
      ],
      "execution_count": 0,
      "outputs": []
    },
    {
      "cell_type": "code",
      "metadata": {
        "id": "bgB1GwJBXq_P",
        "colab_type": "code",
        "colab": {}
      },
      "source": [
        "data=\"\"\"26.4, 1.09, 1.13, 1.08, 1.06, 1.09, 1.09, 0.04 \\n \n",
        "35.4, 1.33, 1.27, 1.32, 1.25, 1.22, 1.28, 0.05 \\n\n",
        "38.7, 1.33, 1.36, 1.41, 1.33, 1.25, 1.34, 0.08 \\n\n",
        "46.6, 1.46, 1.40, 1.34, 1.45, 1.29, 1.39, 0.10 \\n\n",
        "52.2, 1.64, 1.57, 1.56, 1.55, 1.60, 1.58, 0.05 \\n\n",
        "57.3, 1.55, 1.50, 1.68, 1.55, 1.58, 1.57, 0.10 \\n\n",
        "63.2, 1.64, 1.64, 1.70, 1.82, 1.74, 1.71, 0.11 \\n\n",
        "72.4, 1.85, 1.78, 1.82, 1.80, 1.82, 1.81, 0.04 \\n\n",
        "86.5, 1.92, 1.92, 1.94, 1.95, 1.95, 1.94, 0.02\"\"\""
      ],
      "execution_count": 0,
      "outputs": []
    },
    {
      "cell_type": "code",
      "metadata": {
        "id": "3_4K7DPFXq_S",
        "colab_type": "code",
        "outputId": "275ee329-41f3-4cbf-d27c-d9ec256ad5e5",
        "colab": {
          "base_uri": "https://localhost:8080/",
          "height": 332
        }
      },
      "source": [
        "df = pd.read_csv(StringIO(data), names=[\"L\", \"T1\", \"T2\", \"T3\", \"T4\", \"T5\", \"ave\", \"unc\"])\n",
        "df"
      ],
      "execution_count": 0,
      "outputs": [
        {
          "output_type": "execute_result",
          "data": {
            "text/html": [
              "<div>\n",
              "<style scoped>\n",
              "    .dataframe tbody tr th:only-of-type {\n",
              "        vertical-align: middle;\n",
              "    }\n",
              "\n",
              "    .dataframe tbody tr th {\n",
              "        vertical-align: top;\n",
              "    }\n",
              "\n",
              "    .dataframe thead th {\n",
              "        text-align: right;\n",
              "    }\n",
              "</style>\n",
              "<table border=\"1\" class=\"dataframe\">\n",
              "  <thead>\n",
              "    <tr style=\"text-align: right;\">\n",
              "      <th></th>\n",
              "      <th>L</th>\n",
              "      <th>T1</th>\n",
              "      <th>T2</th>\n",
              "      <th>T3</th>\n",
              "      <th>T4</th>\n",
              "      <th>T5</th>\n",
              "      <th>ave</th>\n",
              "      <th>unc</th>\n",
              "    </tr>\n",
              "  </thead>\n",
              "  <tbody>\n",
              "    <tr>\n",
              "      <th>0</th>\n",
              "      <td>26.4</td>\n",
              "      <td>1.09</td>\n",
              "      <td>1.13</td>\n",
              "      <td>1.08</td>\n",
              "      <td>1.06</td>\n",
              "      <td>1.09</td>\n",
              "      <td>1.09</td>\n",
              "      <td>0.04</td>\n",
              "    </tr>\n",
              "    <tr>\n",
              "      <th>1</th>\n",
              "      <td>35.4</td>\n",
              "      <td>1.33</td>\n",
              "      <td>1.27</td>\n",
              "      <td>1.32</td>\n",
              "      <td>1.25</td>\n",
              "      <td>1.22</td>\n",
              "      <td>1.28</td>\n",
              "      <td>0.05</td>\n",
              "    </tr>\n",
              "    <tr>\n",
              "      <th>2</th>\n",
              "      <td>38.7</td>\n",
              "      <td>1.33</td>\n",
              "      <td>1.36</td>\n",
              "      <td>1.41</td>\n",
              "      <td>1.33</td>\n",
              "      <td>1.25</td>\n",
              "      <td>1.34</td>\n",
              "      <td>0.08</td>\n",
              "    </tr>\n",
              "    <tr>\n",
              "      <th>3</th>\n",
              "      <td>46.6</td>\n",
              "      <td>1.46</td>\n",
              "      <td>1.40</td>\n",
              "      <td>1.34</td>\n",
              "      <td>1.45</td>\n",
              "      <td>1.29</td>\n",
              "      <td>1.39</td>\n",
              "      <td>0.10</td>\n",
              "    </tr>\n",
              "    <tr>\n",
              "      <th>4</th>\n",
              "      <td>52.2</td>\n",
              "      <td>1.64</td>\n",
              "      <td>1.57</td>\n",
              "      <td>1.56</td>\n",
              "      <td>1.55</td>\n",
              "      <td>1.60</td>\n",
              "      <td>1.58</td>\n",
              "      <td>0.05</td>\n",
              "    </tr>\n",
              "    <tr>\n",
              "      <th>5</th>\n",
              "      <td>57.3</td>\n",
              "      <td>1.55</td>\n",
              "      <td>1.50</td>\n",
              "      <td>1.68</td>\n",
              "      <td>1.55</td>\n",
              "      <td>1.58</td>\n",
              "      <td>1.57</td>\n",
              "      <td>0.10</td>\n",
              "    </tr>\n",
              "    <tr>\n",
              "      <th>6</th>\n",
              "      <td>63.2</td>\n",
              "      <td>1.64</td>\n",
              "      <td>1.64</td>\n",
              "      <td>1.70</td>\n",
              "      <td>1.82</td>\n",
              "      <td>1.74</td>\n",
              "      <td>1.71</td>\n",
              "      <td>0.11</td>\n",
              "    </tr>\n",
              "    <tr>\n",
              "      <th>7</th>\n",
              "      <td>72.4</td>\n",
              "      <td>1.85</td>\n",
              "      <td>1.78</td>\n",
              "      <td>1.82</td>\n",
              "      <td>1.80</td>\n",
              "      <td>1.82</td>\n",
              "      <td>1.81</td>\n",
              "      <td>0.04</td>\n",
              "    </tr>\n",
              "    <tr>\n",
              "      <th>8</th>\n",
              "      <td>86.5</td>\n",
              "      <td>1.92</td>\n",
              "      <td>1.92</td>\n",
              "      <td>1.94</td>\n",
              "      <td>1.95</td>\n",
              "      <td>1.95</td>\n",
              "      <td>1.94</td>\n",
              "      <td>0.02</td>\n",
              "    </tr>\n",
              "  </tbody>\n",
              "</table>\n",
              "</div>"
            ],
            "text/plain": [
              "      L    T1    T2    T3    T4    T5   ave   unc\n",
              "0  26.4  1.09  1.13  1.08  1.06  1.09  1.09  0.04\n",
              "1  35.4  1.33  1.27  1.32  1.25  1.22  1.28  0.05\n",
              "2  38.7  1.33  1.36  1.41  1.33  1.25  1.34  0.08\n",
              "3  46.6  1.46  1.40  1.34  1.45  1.29  1.39  0.10\n",
              "4  52.2  1.64  1.57  1.56  1.55  1.60  1.58  0.05\n",
              "5  57.3  1.55  1.50  1.68  1.55  1.58  1.57  0.10\n",
              "6  63.2  1.64  1.64  1.70  1.82  1.74  1.71  0.11\n",
              "7  72.4  1.85  1.78  1.82  1.80  1.82  1.81  0.04\n",
              "8  86.5  1.92  1.92  1.94  1.95  1.95  1.94  0.02"
            ]
          },
          "metadata": {
            "tags": []
          },
          "execution_count": 7
        }
      ]
    },
    {
      "cell_type": "markdown",
      "metadata": {
        "id": "dRvzUsCPZJSn",
        "colab_type": "text"
      },
      "source": [
        "Usaremos unicamente las dos primeras columnas de los datos para estudiar la regresion lineal "
      ]
    },
    {
      "cell_type": "code",
      "metadata": {
        "id": "8lViDgJKXq_X",
        "colab_type": "code",
        "outputId": "6c943986-d4e2-47ab-bc86-a5c83d40014b",
        "colab": {
          "base_uri": "https://localhost:8080/",
          "height": 191
        }
      },
      "source": [
        "x = df[\"L\"]\n",
        "x"
      ],
      "execution_count": 0,
      "outputs": [
        {
          "output_type": "execute_result",
          "data": {
            "text/plain": [
              "0    26.4\n",
              "1    35.4\n",
              "2    38.7\n",
              "3    46.6\n",
              "4    52.2\n",
              "5    57.3\n",
              "6    63.2\n",
              "7    72.4\n",
              "8    86.5\n",
              "Name: L, dtype: float64"
            ]
          },
          "metadata": {
            "tags": []
          },
          "execution_count": 8
        }
      ]
    },
    {
      "cell_type": "markdown",
      "metadata": {
        "id": "hagB6BX9QB9b",
        "colab_type": "text"
      },
      "source": [
        "Como primer ejercicio vamos a usar la implementacion de regresion lineal que esta en la libreria `scikit` para lo cual es necesario que los datos tengan una estructura particular, de modo que vamos a covnertir las columndas de datos a esa forma matricial con `numpy`"
      ]
    },
    {
      "cell_type": "code",
      "metadata": {
        "id": "AkW3pO6UXq_b",
        "colab_type": "code",
        "colab": {}
      },
      "source": [
        "import numpy as np"
      ],
      "execution_count": 0,
      "outputs": []
    },
    {
      "cell_type": "markdown",
      "metadata": {
        "id": "tulSjh6iQ-cf",
        "colab_type": "text"
      },
      "source": [
        "La variable independiente, caracteristica o atributo es la longitud del pendulo"
      ]
    },
    {
      "cell_type": "code",
      "metadata": {
        "id": "i7RnZVm0Xq_e",
        "colab_type": "code",
        "outputId": "2205c3ca-c790-4463-bdd1-ffd844f3b1c6",
        "colab": {
          "base_uri": "https://localhost:8080/",
          "height": 173
        }
      },
      "source": [
        "x = np.array(x).reshape(-1,1)\n",
        "print(x)"
      ],
      "execution_count": 0,
      "outputs": [
        {
          "output_type": "stream",
          "text": [
            "[[26.4]\n",
            " [35.4]\n",
            " [38.7]\n",
            " [46.6]\n",
            " [52.2]\n",
            " [57.3]\n",
            " [63.2]\n",
            " [72.4]\n",
            " [86.5]]\n"
          ],
          "name": "stdout"
        }
      ]
    },
    {
      "cell_type": "markdown",
      "metadata": {
        "id": "xhlIJhlaRJk9",
        "colab_type": "text"
      },
      "source": [
        ""
      ]
    },
    {
      "cell_type": "code",
      "metadata": {
        "id": "_rEbjA8iXq_h",
        "colab_type": "code",
        "colab": {}
      },
      "source": [
        "y = np.array(df[\"T1\"]).reshape(-1,1)\n",
        "y *= y"
      ],
      "execution_count": 0,
      "outputs": []
    },
    {
      "cell_type": "code",
      "metadata": {
        "id": "Fo4u6gUSXq_k",
        "colab_type": "code",
        "colab": {}
      },
      "source": [
        "import matplotlib.pyplot as plt"
      ],
      "execution_count": 0,
      "outputs": []
    },
    {
      "cell_type": "code",
      "metadata": {
        "id": "3I3hDmlsXq_o",
        "colab_type": "code",
        "outputId": "7bb26cfe-d22e-43a6-b0f6-c91c9500956a",
        "colab": {}
      },
      "source": [
        "plt.scatter(x, y)\n",
        "plt.xlabel(\"L\")\n",
        "plt.ylabel(\"T^2\")"
      ],
      "execution_count": 0,
      "outputs": [
        {
          "output_type": "execute_result",
          "data": {
            "text/plain": [
              "<matplotlib.text.Text at 0x11b3b0dd0>"
            ]
          },
          "metadata": {
            "tags": []
          },
          "execution_count": 10
        },
        {
          "output_type": "display_data",
          "data": {
            "image/png": "[encoded data removed]",
            "text/plain": [
              "<matplotlib.figure.Figure at 0x11b2e2990>"
            ]
          },
          "metadata": {
            "tags": [],
            "needs_background": "light"
          }
        }
      ]
    },
    {
      "cell_type": "code",
      "metadata": {
        "id": "TRZYnrxLXq_t",
        "colab_type": "code",
        "colab": {}
      },
      "source": [
        "from sklearn.linear_model import LinearRegression"
      ],
      "execution_count": 0,
      "outputs": []
    },
    {
      "cell_type": "code",
      "metadata": {
        "id": "TyT1M_xRXq_v",
        "colab_type": "code",
        "colab": {}
      },
      "source": [
        "lr = LinearRegression()"
      ],
      "execution_count": 0,
      "outputs": []
    },
    {
      "cell_type": "code",
      "metadata": {
        "id": "ULGRfK4uXq_x",
        "colab_type": "code",
        "colab": {}
      },
      "source": [
        "regr = lr.fit(x, y)"
      ],
      "execution_count": 0,
      "outputs": []
    },
    {
      "cell_type": "code",
      "metadata": {
        "id": "e19zKIUHXq_z",
        "colab_type": "code",
        "colab": {}
      },
      "source": [
        "y_pred = lr.predict(x)"
      ],
      "execution_count": 0,
      "outputs": []
    },
    {
      "cell_type": "code",
      "metadata": {
        "id": "sI6fpDHpXq_2",
        "colab_type": "code",
        "colab": {}
      },
      "source": [
        "slope = regr.coef_[0][0]"
      ],
      "execution_count": 0,
      "outputs": []
    },
    {
      "cell_type": "code",
      "metadata": {
        "id": "fbU5k7n-Xq_4",
        "colab_type": "code",
        "colab": {}
      },
      "source": [
        "b = regr.intercept_[0]"
      ],
      "execution_count": 0,
      "outputs": []
    },
    {
      "cell_type": "code",
      "metadata": {
        "id": "5aMcd4lyXq_9",
        "colab_type": "code",
        "outputId": "61c0cfe1-fdbf-4aee-e69f-bf5319d7dd61",
        "colab": {}
      },
      "source": [
        "print(slope, b)"
      ],
      "execution_count": 0,
      "outputs": [
        {
          "output_type": "stream",
          "text": [
            "(0.04150929422306598, 0.20862231726870162)\n"
          ],
          "name": "stdout"
        }
      ]
    },
    {
      "cell_type": "code",
      "metadata": {
        "id": "ZKxeZqIZXrAA",
        "colab_type": "code",
        "outputId": "959beb7c-297a-40f9-e936-521689da8353",
        "colab": {}
      },
      "source": [
        "plt.scatter(x, y, color='red')\n",
        "plt.plot(x, y_pred, color='blue', linewidth=3)\n",
        "\n",
        "plt.xlabel(\"L\")\n",
        "plt.ylabel(\"T^2\")\n",
        "\n",
        "plt.title(\"m = {}, b = {}\".format(m, b))"
      ],
      "execution_count": 0,
      "outputs": [
        {
          "output_type": "execute_result",
          "data": {
            "text/plain": [
              "<matplotlib.text.Text at 0x1a1d950890>"
            ]
          },
          "metadata": {
            "tags": []
          },
          "execution_count": 18
        },
        {
          "output_type": "display_data",
          "data": {
            "image/png": "[encoded data removed]",
            "text/plain": [
              "<matplotlib.figure.Figure at 0x1a1d6acbd0>"
            ]
          },
          "metadata": {
            "tags": [],
            "needs_background": "light"
          }
        }
      ]
    },
    {
      "cell_type": "markdown",
      "metadata": {
        "id": "K0IrCVoFXrAF",
        "colab_type": "text"
      },
      "source": [
        "Vamos a construir explicitamente la recta anterior sin recurrir a ninguna librearia o funcion, unicamente usando algebra lineal."
      ]
    },
    {
      "cell_type": "code",
      "metadata": {
        "id": "C20qn6FnXrAG",
        "colab_type": "code",
        "colab": {}
      },
      "source": [
        "n = x.shape[0] # numero de instancias, mediciones, renglones de los datos\n",
        "m = x.shape[1] # numero de columnas, variables o atributos de los datos"
      ],
      "execution_count": 0,
      "outputs": []
    },
    {
      "cell_type": "markdown",
      "metadata": {
        "id": "gQMrgF-NXrAO",
        "colab_type": "text"
      },
      "source": [
        "**Nota importante** m, el numero de columnas variable independientes, o atributos determina la dimension del problema. La dimension determina el numero de coeficientes que se tienen que determinar en el problema."
      ]
    },
    {
      "cell_type": "code",
      "metadata": {
        "id": "8-0W5KFMXrAP",
        "colab_type": "code",
        "outputId": "022586fb-f149-443e-d583-01a127c04ebc",
        "colab": {}
      },
      "source": [
        "np.ones(n)"
      ],
      "execution_count": 0,
      "outputs": [
        {
          "output_type": "execute_result",
          "data": {
            "text/plain": [
              "array([1., 1., 1., 1., 1., 1., 1., 1., 1.])"
            ]
          },
          "metadata": {
            "tags": []
          },
          "execution_count": 20
        }
      ]
    },
    {
      "cell_type": "code",
      "metadata": {
        "id": "GECu0qBlXrAU",
        "colab_type": "code",
        "outputId": "b66c8e3c-f476-44cb-9765-8c705ef2e470",
        "colab": {}
      },
      "source": [
        "np.ones(n).reshape(-1,1)"
      ],
      "execution_count": 0,
      "outputs": [
        {
          "output_type": "execute_result",
          "data": {
            "text/plain": [
              "array([[1.],\n",
              "       [1.],\n",
              "       [1.],\n",
              "       [1.],\n",
              "       [1.],\n",
              "       [1.],\n",
              "       [1.],\n",
              "       [1.],\n",
              "       [1.]])"
            ]
          },
          "metadata": {
            "tags": []
          },
          "execution_count": 21
        }
      ]
    },
    {
      "cell_type": "code",
      "metadata": {
        "id": "oRwpmopLXrAX",
        "colab_type": "code",
        "outputId": "693e8e77-a9c2-4010-df22-c3b844fe1a9e",
        "colab": {}
      },
      "source": [
        "X = np.append(np.ones(n).reshape(-1,1), x, axis=1)\n",
        "X"
      ],
      "execution_count": 0,
      "outputs": [
        {
          "output_type": "execute_result",
          "data": {
            "text/plain": [
              "array([[ 1. , 26.4],\n",
              "       [ 1. , 35.4],\n",
              "       [ 1. , 38.7],\n",
              "       [ 1. , 46.6],\n",
              "       [ 1. , 52.2],\n",
              "       [ 1. , 57.3],\n",
              "       [ 1. , 63.2],\n",
              "       [ 1. , 72.4],\n",
              "       [ 1. , 86.5]])"
            ]
          },
          "metadata": {
            "tags": []
          },
          "execution_count": 22
        }
      ]
    },
    {
      "cell_type": "code",
      "metadata": {
        "id": "FZzcaWiaXrAc",
        "colab_type": "code",
        "outputId": "a5a7f279-7556-4328-ffbf-d769e1aa4d75",
        "colab": {}
      },
      "source": [
        "X.shape"
      ],
      "execution_count": 0,
      "outputs": [
        {
          "output_type": "execute_result",
          "data": {
            "text/plain": [
              "(9, 2)"
            ]
          },
          "metadata": {
            "tags": []
          },
          "execution_count": 23
        }
      ]
    },
    {
      "cell_type": "code",
      "metadata": {
        "id": "fsSdGXDBXrAf",
        "colab_type": "code",
        "outputId": "d917a0bc-f8df-4feb-9292-42b3ab02815f",
        "colab": {}
      },
      "source": [
        "Xt = X.transpose()\n",
        "Xt.shape"
      ],
      "execution_count": 0,
      "outputs": [
        {
          "output_type": "execute_result",
          "data": {
            "text/plain": [
              "(2, 9)"
            ]
          },
          "metadata": {
            "tags": []
          },
          "execution_count": 24
        }
      ]
    },
    {
      "cell_type": "code",
      "metadata": {
        "id": "89cHWL4hXrAj",
        "colab_type": "code",
        "outputId": "1742440c-3006-4175-efdd-6dc1aa3f9cee",
        "colab": {}
      },
      "source": [
        "X.dot(Xt)"
      ],
      "execution_count": 0,
      "outputs": [
        {
          "output_type": "execute_result",
          "data": {
            "text/plain": [
              "array([[ 697.96,  935.56, 1022.68, 1231.24, 1379.08, 1513.72, 1669.48,\n",
              "        1912.36, 2284.6 ],\n",
              "       [ 935.56, 1254.16, 1370.98, 1650.64, 1848.88, 2029.42, 2238.28,\n",
              "        2563.96, 3063.1 ],\n",
              "       [1022.68, 1370.98, 1498.69, 1804.42, 2021.14, 2218.51, 2446.84,\n",
              "        2802.88, 3348.55],\n",
              "       [1231.24, 1650.64, 1804.42, 2172.56, 2433.52, 2671.18, 2946.12,\n",
              "        3374.84, 4031.9 ],\n",
              "       [1379.08, 1848.88, 2021.14, 2433.52, 2725.84, 2992.06, 3300.04,\n",
              "        3780.28, 4516.3 ],\n",
              "       [1513.72, 2029.42, 2218.51, 2671.18, 2992.06, 3284.29, 3622.36,\n",
              "        4149.52, 4957.45],\n",
              "       [1669.48, 2238.28, 2446.84, 2946.12, 3300.04, 3622.36, 3995.24,\n",
              "        4576.68, 5467.8 ],\n",
              "       [1912.36, 2563.96, 2802.88, 3374.84, 3780.28, 4149.52, 4576.68,\n",
              "        5242.76, 6263.6 ],\n",
              "       [2284.6 , 3063.1 , 3348.55, 4031.9 , 4516.3 , 4957.45, 5467.8 ,\n",
              "        6263.6 , 7483.25]])"
            ]
          },
          "metadata": {
            "tags": []
          },
          "execution_count": 25
        }
      ]
    },
    {
      "cell_type": "code",
      "metadata": {
        "id": "x0f5TdXYXrAm",
        "colab_type": "code",
        "colab": {}
      },
      "source": [
        "M = Xt.dot(X)"
      ],
      "execution_count": 0,
      "outputs": []
    },
    {
      "cell_type": "code",
      "metadata": {
        "id": "7w1dLoQZXrAo",
        "colab_type": "code",
        "outputId": "ebf6cc20-f3a5-42d6-895b-1f9fce7f07be",
        "colab": {}
      },
      "source": [
        "detM = np.linalg.det(M)\n",
        "1./detM"
      ],
      "execution_count": 0,
      "outputs": [
        {
          "output_type": "execute_result",
          "data": {
            "text/plain": [
              "3.852368012093361e-05"
            ]
          },
          "metadata": {
            "tags": []
          },
          "execution_count": 28
        }
      ]
    },
    {
      "cell_type": "markdown",
      "metadata": {
        "id": "25Ayn-CaXrAr",
        "colab_type": "text"
      },
      "source": [
        "Como el determinante de $M$ es no nulo, puedo construir la inversa $M^{-1}$"
      ]
    },
    {
      "cell_type": "code",
      "metadata": {
        "id": "9tlPWT0QXrAs",
        "colab_type": "code",
        "colab": {}
      },
      "source": [
        "Minv = np.linalg.inv(M)"
      ],
      "execution_count": 0,
      "outputs": []
    },
    {
      "cell_type": "code",
      "metadata": {
        "id": "O7ZEAGrtXrAy",
        "colab_type": "code",
        "outputId": "588f6614-7324-442b-b008-17cbb19b34bc",
        "colab": {}
      },
      "source": [
        "M.dot(Minv)"
      ],
      "execution_count": 0,
      "outputs": [
        {
          "output_type": "execute_result",
          "data": {
            "text/plain": [
              "array([[ 1.00000000e+00, -2.77555756e-17],\n",
              "       [ 0.00000000e+00,  1.00000000e+00]])"
            ]
          },
          "metadata": {
            "tags": []
          },
          "execution_count": 30
        }
      ]
    },
    {
      "cell_type": "code",
      "metadata": {
        "id": "pjWQ9DIoXrA1",
        "colab_type": "code",
        "outputId": "41fa6c36-9122-4c94-9622-746e689b5aa6",
        "colab": {}
      },
      "source": [
        "Minv.dot(M)"
      ],
      "execution_count": 0,
      "outputs": [
        {
          "output_type": "execute_result",
          "data": {
            "text/plain": [
              "array([[ 1.00000000e+00, -1.13686838e-13],\n",
              "       [ 0.00000000e+00,  1.00000000e+00]])"
            ]
          },
          "metadata": {
            "tags": []
          },
          "execution_count": 31
        }
      ]
    },
    {
      "cell_type": "code",
      "metadata": {
        "id": "xzQl35KyXrBB",
        "colab_type": "code",
        "outputId": "0e3747f5-ae2b-429f-e278-9567509d1023",
        "colab": {}
      },
      "source": [
        "Minv.shape"
      ],
      "execution_count": 0,
      "outputs": [
        {
          "output_type": "execute_result",
          "data": {
            "text/plain": [
              "(2, 2)"
            ]
          },
          "metadata": {
            "tags": []
          },
          "execution_count": 32
        }
      ]
    },
    {
      "cell_type": "code",
      "metadata": {
        "id": "eoFcg3dmXrBD",
        "colab_type": "code",
        "outputId": "f487b0c3-fa8c-4442-f645-8483e59b9155",
        "colab": {}
      },
      "source": [
        "Xt.shape"
      ],
      "execution_count": 0,
      "outputs": [
        {
          "output_type": "execute_result",
          "data": {
            "text/plain": [
              "(2, 9)"
            ]
          },
          "metadata": {
            "tags": []
          },
          "execution_count": 33
        }
      ]
    },
    {
      "cell_type": "code",
      "metadata": {
        "id": "7YEQLzKFXrBG",
        "colab_type": "code",
        "outputId": "0e367953-4ad7-45af-93b9-c0bfa12926dc",
        "colab": {}
      },
      "source": [
        "y.shape"
      ],
      "execution_count": 0,
      "outputs": [
        {
          "output_type": "execute_result",
          "data": {
            "text/plain": [
              "(9, 1)"
            ]
          },
          "metadata": {
            "tags": []
          },
          "execution_count": 34
        }
      ]
    },
    {
      "cell_type": "code",
      "metadata": {
        "id": "iClvwjGuXrBI",
        "colab_type": "code",
        "outputId": "3e73ce82-f238-4c1d-af6c-efc0c42a10b5",
        "colab": {}
      },
      "source": [
        "Minv.dot(Xt)"
      ],
      "execution_count": 0,
      "outputs": [
        {
          "output_type": "execute_result",
          "data": {
            "text/plain": [
              "array([[ 6.05132664e-01,  4.39161093e-01,  3.78304850e-01,\n",
              "         2.32618693e-01,  1.29347494e-01,  3.52969367e-02,\n",
              "        -7.35066488e-02, -2.43166477e-01, -5.03188605e-01],\n",
              "       [-9.28805928e-03, -6.16764119e-03, -5.02348789e-03,\n",
              "        -2.28445423e-03, -3.42860753e-04,  1.42537616e-03,\n",
              "         3.47098358e-03,  6.66074429e-03,  1.15493993e-02]])"
            ]
          },
          "metadata": {
            "tags": []
          },
          "execution_count": 35
        }
      ]
    },
    {
      "cell_type": "code",
      "metadata": {
        "id": "FUOorgqSXrBK",
        "colab_type": "code",
        "outputId": "5d4f1fe3-f7ed-42a0-9e5f-189b9686ebef",
        "colab": {}
      },
      "source": [
        "Minv.dot(Xt).dot(y)"
      ],
      "execution_count": 0,
      "outputs": [
        {
          "output_type": "execute_result",
          "data": {
            "text/plain": [
              "array([[0.20862232],\n",
              "       [0.04150929]])"
            ]
          },
          "metadata": {
            "tags": []
          },
          "execution_count": 36
        }
      ]
    },
    {
      "cell_type": "code",
      "metadata": {
        "id": "EfNwOFBnXrBN",
        "colab_type": "code",
        "outputId": "c695a165-c2a2-47a5-a404-c2081263e22c",
        "colab": {}
      },
      "source": [
        "print(slope,b)"
      ],
      "execution_count": 0,
      "outputs": [
        {
          "output_type": "stream",
          "text": [
            "(0.04150929422306598, 0.20862231726870162)\n"
          ],
          "name": "stdout"
        }
      ]
    },
    {
      "cell_type": "code",
      "metadata": {
        "id": "L44rBNliXrBQ",
        "colab_type": "code",
        "colab": {}
      },
      "source": [
        "def linh(x, theta):\n",
        "    return theta[0]*x[0]+theta[1]*x[1]\n"
      ],
      "execution_count": 0,
      "outputs": []
    },
    {
      "cell_type": "code",
      "metadata": {
        "id": "Xs_E1ITdXrBS",
        "colab_type": "code",
        "colab": {}
      },
      "source": [
        "theta = np.array([1,1])"
      ],
      "execution_count": 0,
      "outputs": []
    },
    {
      "cell_type": "code",
      "metadata": {
        "id": "nqzaqDhxXrBW",
        "colab_type": "code",
        "outputId": "d87e20a3-4d4d-49e4-c87e-e3578d87632c",
        "colab": {}
      },
      "source": [
        "X"
      ],
      "execution_count": 0,
      "outputs": [
        {
          "output_type": "execute_result",
          "data": {
            "text/plain": [
              "array([[ 1. , 26.4],\n",
              "       [ 1. , 35.4],\n",
              "       [ 1. , 38.7],\n",
              "       [ 1. , 46.6],\n",
              "       [ 1. , 52.2],\n",
              "       [ 1. , 57.3],\n",
              "       [ 1. , 63.2],\n",
              "       [ 1. , 72.4],\n",
              "       [ 1. , 86.5]])"
            ]
          },
          "metadata": {
            "tags": []
          },
          "execution_count": 53
        }
      ]
    },
    {
      "cell_type": "code",
      "metadata": {
        "id": "CBbtnznoXrBY",
        "colab_type": "code",
        "outputId": "8f25f63d-3e80-41e2-a721-aec6ddfab569",
        "colab": {}
      },
      "source": [
        "linh(X[0],theta)"
      ],
      "execution_count": 0,
      "outputs": [
        {
          "output_type": "execute_result",
          "data": {
            "text/plain": [
              "27.4"
            ]
          },
          "metadata": {
            "tags": []
          },
          "execution_count": 52
        }
      ]
    },
    {
      "cell_type": "code",
      "metadata": {
        "id": "BkFi_930XrBe",
        "colab_type": "code",
        "colab": {}
      },
      "source": [
        "hipLineal=[linh(instancias,theta) for instancias in X]"
      ],
      "execution_count": 0,
      "outputs": []
    },
    {
      "cell_type": "code",
      "metadata": {
        "id": "hdqnccnSXrBg",
        "colab_type": "code",
        "outputId": "f021995e-8f71-4174-d50e-0ab56b98a23a",
        "colab": {}
      },
      "source": [
        "# el error en cada instancia al usar la hipotesis lineal\n",
        "hipLineal - y[::,0]"
      ],
      "execution_count": 0,
      "outputs": [
        {
          "output_type": "execute_result",
          "data": {
            "text/plain": [
              "array([26.2119, 34.6311, 37.9311, 45.4684, 50.5104, 55.8975, 61.5104,\n",
              "       69.9775, 83.8136])"
            ]
          },
          "metadata": {
            "tags": []
          },
          "execution_count": 67
        }
      ]
    },
    {
      "cell_type": "code",
      "metadata": {
        "scrolled": true,
        "id": "lpj6jzE7XrBi",
        "colab_type": "code",
        "colab": {}
      },
      "source": [
        "# definir una funcion que evalue el error\n",
        "def error(X, y, theta):\n",
        "    '''\n",
        "    Utiliza la funcion linh y list comprehension para \n",
        "    evaluar el error sobre X para una lista de parametros theta\n",
        "    '''\n",
        "    hipl = [linh(instancias,theta) for instancias in X]\n",
        "    return hipl - y[::,0]"
      ],
      "execution_count": 0,
      "outputs": []
    },
    {
      "cell_type": "code",
      "metadata": {
        "id": "2GyibFn1XrBk",
        "colab_type": "code",
        "outputId": "249f6348-d7bc-40e9-d4b4-249f83b32c33",
        "colab": {}
      },
      "source": [
        "error(X, y, theta)"
      ],
      "execution_count": 0,
      "outputs": [
        {
          "output_type": "execute_result",
          "data": {
            "text/plain": [
              "array([26.2119, 34.6311, 37.9311, 45.4684, 50.5104, 55.8975, 61.5104,\n",
              "       69.9775, 83.8136])"
            ]
          },
          "metadata": {
            "tags": []
          },
          "execution_count": 70
        }
      ]
    },
    {
      "cell_type": "code",
      "metadata": {
        "id": "HrQiJTqJXrBm",
        "colab_type": "code",
        "colab": {}
      },
      "source": [
        "theta = np.random.randn(2)"
      ],
      "execution_count": 0,
      "outputs": []
    },
    {
      "cell_type": "code",
      "metadata": {
        "id": "Dob3IdAUXrBp",
        "colab_type": "code",
        "colab": {}
      },
      "source": [
        "# error al suponer la hipotesis en cada instancia de X\n",
        "e = error(X, y, [1,1])"
      ],
      "execution_count": 0,
      "outputs": []
    },
    {
      "cell_type": "code",
      "metadata": {
        "id": "rmjo9k3tXrBu",
        "colab_type": "code",
        "colab": {}
      },
      "source": [
        "#termino de la derivada respecto a theta0\n",
        "djd0=e*X[::,0]"
      ],
      "execution_count": 0,
      "outputs": []
    },
    {
      "cell_type": "code",
      "metadata": {
        "id": "hQ3R-VEwXrBx",
        "colab_type": "code",
        "outputId": "a9d04322-f6c5-49e6-b50d-aca9d88f211d",
        "colab": {}
      },
      "source": [
        "djd0.sum()"
      ],
      "execution_count": 0,
      "outputs": [
        {
          "output_type": "execute_result",
          "data": {
            "text/plain": [
              "465.9519"
            ]
          },
          "metadata": {
            "tags": []
          },
          "execution_count": 87
        }
      ]
    },
    {
      "cell_type": "code",
      "metadata": {
        "id": "i3k4ZnYPXrB0",
        "colab_type": "code",
        "outputId": "83fd29b7-2d44-4bfb-dbaf-8905655c6463",
        "colab": {}
      },
      "source": [
        "# termino de la derivada respecto a theta1\n",
        "djd1 = e*X[::,1]\n",
        "djd1.sum()"
      ],
      "execution_count": 0,
      "outputs": [
        {
          "output_type": "execute_result",
          "data": {
            "text/plain": [
              "27547.970419999998"
            ]
          },
          "metadata": {
            "tags": []
          },
          "execution_count": 88
        }
      ]
    },
    {
      "cell_type": "code",
      "metadata": {
        "id": "i69vF-XvXrB2",
        "colab_type": "code",
        "colab": {}
      },
      "source": [
        "alpha = 0.01"
      ],
      "execution_count": 0,
      "outputs": []
    },
    {
      "cell_type": "code",
      "metadata": {
        "id": "3jiuQ_xBXrB3",
        "colab_type": "code",
        "outputId": "b37cebdf-84fc-4828-e6d8-5c0443274da4",
        "colab": {}
      },
      "source": [
        "theta "
      ],
      "execution_count": 0,
      "outputs": [
        {
          "output_type": "execute_result",
          "data": {
            "text/plain": [
              "array([0.19500787, 1.9736822 ])"
            ]
          },
          "metadata": {
            "tags": []
          },
          "execution_count": 97
        }
      ]
    },
    {
      "cell_type": "code",
      "metadata": {
        "id": "vmwmIHanXrB5",
        "colab_type": "code",
        "colab": {}
      },
      "source": [
        "dJ = np.array([djd0.sum(), djd1.sum()])"
      ],
      "execution_count": 0,
      "outputs": []
    },
    {
      "cell_type": "code",
      "metadata": {
        "id": "9R5XEuLSXrB7",
        "colab_type": "code",
        "outputId": "b0ece831-ba74-431c-e57a-32b96b6f08dd",
        "colab": {}
      },
      "source": [
        "theta - alpha*dJ"
      ],
      "execution_count": 0,
      "outputs": [
        {
          "output_type": "execute_result",
          "data": {
            "text/plain": [
              "array([  -4.46451113, -273.506022  ])"
            ]
          },
          "metadata": {
            "tags": []
          },
          "execution_count": 99
        }
      ]
    },
    {
      "cell_type": "code",
      "metadata": {
        "id": "OeX90q4bXrB9",
        "colab_type": "code",
        "colab": {}
      },
      "source": [
        "theta = np.ones(2)"
      ],
      "execution_count": 0,
      "outputs": []
    },
    {
      "cell_type": "code",
      "metadata": {
        "id": "OAc7_Ab0XrCC",
        "colab_type": "code",
        "outputId": "71f97d1f-83f0-40bf-8bea-b1e2bb8e2f59",
        "colab": {}
      },
      "source": [
        "print(theta)\n",
        "e = error(X, y, theta) # actualiza el error\n",
        "djd0 = e*X[::,0]\n",
        "djd1 = e*X[::,1]\n",
        "dJ = np.array([djd0.sum(), djd1.sum()])\n",
        "theta = theta - alpha*dJ\n",
        "print(theta)"
      ],
      "execution_count": 0,
      "outputs": [
        {
          "output_type": "stream",
          "text": [
            "[6.66325868e+17 3.94545570e+19]\n",
            "[-1.88262608e+20 -1.11474252e+22]\n"
          ],
          "name": "stdout"
        }
      ]
    },
    {
      "cell_type": "markdown",
      "metadata": {
        "id": "pE4dxvMuXrCG",
        "colab_type": "text"
      },
      "source": [
        "# Tarea\n",
        "\n",
        "implementar el algoritmo anterior de modo que en cada iteracion, que se llama una epoca o una generacion del algoritmo, se calcule el error y se use como criterio de convergencia\n",
        "\n",
        "El resultado debe ser el mismo a el encontrado anteriormente, es decir:"
      ]
    },
    {
      "cell_type": "code",
      "metadata": {
        "id": "y0XQA_M-XrCG",
        "colab_type": "code",
        "outputId": "a7f44691-13f8-4d3f-d1a8-c1c0b89efd4a",
        "colab": {}
      },
      "source": [
        "slope"
      ],
      "execution_count": 0,
      "outputs": [
        {
          "output_type": "execute_result",
          "data": {
            "text/plain": [
              "0.04150929422306598"
            ]
          },
          "metadata": {
            "tags": []
          },
          "execution_count": 114
        }
      ]
    },
    {
      "cell_type": "code",
      "metadata": {
        "id": "sfsN7vQOXrCI",
        "colab_type": "code",
        "outputId": "35365a5b-293e-4d5f-a99c-5a4d14e6ed66",
        "colab": {}
      },
      "source": [
        "b"
      ],
      "execution_count": 0,
      "outputs": [
        {
          "output_type": "execute_result",
          "data": {
            "text/plain": [
              "0.20862231726870162"
            ]
          },
          "metadata": {
            "tags": []
          },
          "execution_count": 115
        }
      ]
    },
    {
      "cell_type": "code",
      "metadata": {
        "id": "OsRpiYKkXrCK",
        "colab_type": "code",
        "colab": {}
      },
      "source": [
        ""
      ],
      "execution_count": 0,
      "outputs": []
    }
  ]
}