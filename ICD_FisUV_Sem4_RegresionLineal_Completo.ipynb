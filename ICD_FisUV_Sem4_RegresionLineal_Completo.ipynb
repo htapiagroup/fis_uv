{
  "nbformat": 4,
  "nbformat_minor": 0,
  "metadata": {
    "colab": {
      "name": "ICD_FisUV_Sem4_RegresionLineal_Completo.ipynb",
      "provenance": [],
      "collapsed_sections": [],
      "toc_visible": true,
      "include_colab_link": true
    },
    "kernelspec": {
      "name": "python3",
      "display_name": "Python 3"
    }
  },
  "cells": [
    {
      "cell_type": "markdown",
      "metadata": {
        "id": "view-in-github",
        "colab_type": "text"
      },
      "source": [
        "<a href=\"https://colab.research.google.com/github/htapiagroup/fis_uv/blob/master/ICD_FisUV_Sem4_RegresionLineal_Completo.ipynb\" target=\"_parent\"><img src=\"https://colab.research.google.com/assets/colab-badge.svg\" alt=\"Open In Colab\"/></a>"
      ]
    },
    {
      "cell_type": "markdown",
      "metadata": {
        "id": "usF21IkkeCG8",
        "colab_type": "text"
      },
      "source": [
        "# Introduccion a la Ciencia de Datos\n",
        "Overview\n",
        "Duration: 0:02:00\n",
        "\n",
        "En esta semana vamos a implementar regresion lineal usando el algoritmo descenso por el grandiente aprovechando las capacidades vectoriales del lenguaje de programacion, y lo iremos modificando para poderlo usar en diversos escenarios. Despues iremos a regresion logistica"
      ]
    },
    {
      "cell_type": "code",
      "metadata": {
        "id": "DYiAh3sDeBYn",
        "colab_type": "code",
        "colab": {}
      },
      "source": [
        "import numpy as np\n",
        "import matplotlib.pyplot as plt\n",
        "import pandas as pd\n",
        "from pandas.compat import StringIO"
      ],
      "execution_count": 0,
      "outputs": []
    },
    {
      "cell_type": "code",
      "metadata": {
        "id": "QeGDW0E2ej1t",
        "colab_type": "code",
        "outputId": "0c064772-cfb1-4362-9bce-f10147fb8f5d",
        "colab": {
          "base_uri": "https://localhost:8080/",
          "height": 328
        }
      },
      "source": [
        "data=\"\"\"26.4, 1.09, 1.13, 1.08, 1.06, 1.09, 1.09, 0.04 \\n \n",
        "35.4, 1.33, 1.27, 1.32, 1.25, 1.22, 1.28, 0.05 \\n\n",
        "38.7, 1.33, 1.36, 1.41, 1.33, 1.25, 1.34, 0.08 \\n\n",
        "46.6, 1.46, 1.40, 1.34, 1.45, 1.29, 1.39, 0.10 \\n\n",
        "52.2, 1.64, 1.57, 1.56, 1.55, 1.60, 1.58, 0.05 \\n\n",
        "57.3, 1.55, 1.50, 1.68, 1.55, 1.58, 1.57, 0.10 \\n\n",
        "63.2, 1.64, 1.64, 1.70, 1.82, 1.74, 1.71, 0.11 \\n\n",
        "72.4, 1.85, 1.78, 1.82, 1.80, 1.82, 1.81, 0.04 \\n\n",
        "86.5, 1.92, 1.92, 1.94, 1.95, 1.95, 1.94, 0.02\"\"\"\n",
        "\n",
        "df = pd.read_csv(StringIO(data), names=[\"L\", \"T1\", \"T2\", \"T3\", \"T4\", \"T5\", \"ave\", \"unc\"])\n",
        "df"
      ],
      "execution_count": 0,
      "outputs": [
        {
          "output_type": "execute_result",
          "data": {
            "text/html": [
              "<div>\n",
              "<style scoped>\n",
              "    .dataframe tbody tr th:only-of-type {\n",
              "        vertical-align: middle;\n",
              "    }\n",
              "\n",
              "    .dataframe tbody tr th {\n",
              "        vertical-align: top;\n",
              "    }\n",
              "\n",
              "    .dataframe thead th {\n",
              "        text-align: right;\n",
              "    }\n",
              "</style>\n",
              "<table border=\"1\" class=\"dataframe\">\n",
              "  <thead>\n",
              "    <tr style=\"text-align: right;\">\n",
              "      <th></th>\n",
              "      <th>L</th>\n",
              "      <th>T1</th>\n",
              "      <th>T2</th>\n",
              "      <th>T3</th>\n",
              "      <th>T4</th>\n",
              "      <th>T5</th>\n",
              "      <th>ave</th>\n",
              "      <th>unc</th>\n",
              "    </tr>\n",
              "  </thead>\n",
              "  <tbody>\n",
              "    <tr>\n",
              "      <th>0</th>\n",
              "      <td>26.4</td>\n",
              "      <td>1.09</td>\n",
              "      <td>1.13</td>\n",
              "      <td>1.08</td>\n",
              "      <td>1.06</td>\n",
              "      <td>1.09</td>\n",
              "      <td>1.09</td>\n",
              "      <td>0.04</td>\n",
              "    </tr>\n",
              "    <tr>\n",
              "      <th>1</th>\n",
              "      <td>35.4</td>\n",
              "      <td>1.33</td>\n",
              "      <td>1.27</td>\n",
              "      <td>1.32</td>\n",
              "      <td>1.25</td>\n",
              "      <td>1.22</td>\n",
              "      <td>1.28</td>\n",
              "      <td>0.05</td>\n",
              "    </tr>\n",
              "    <tr>\n",
              "      <th>2</th>\n",
              "      <td>38.7</td>\n",
              "      <td>1.33</td>\n",
              "      <td>1.36</td>\n",
              "      <td>1.41</td>\n",
              "      <td>1.33</td>\n",
              "      <td>1.25</td>\n",
              "      <td>1.34</td>\n",
              "      <td>0.08</td>\n",
              "    </tr>\n",
              "    <tr>\n",
              "      <th>3</th>\n",
              "      <td>46.6</td>\n",
              "      <td>1.46</td>\n",
              "      <td>1.40</td>\n",
              "      <td>1.34</td>\n",
              "      <td>1.45</td>\n",
              "      <td>1.29</td>\n",
              "      <td>1.39</td>\n",
              "      <td>0.10</td>\n",
              "    </tr>\n",
              "    <tr>\n",
              "      <th>4</th>\n",
              "      <td>52.2</td>\n",
              "      <td>1.64</td>\n",
              "      <td>1.57</td>\n",
              "      <td>1.56</td>\n",
              "      <td>1.55</td>\n",
              "      <td>1.60</td>\n",
              "      <td>1.58</td>\n",
              "      <td>0.05</td>\n",
              "    </tr>\n",
              "    <tr>\n",
              "      <th>5</th>\n",
              "      <td>57.3</td>\n",
              "      <td>1.55</td>\n",
              "      <td>1.50</td>\n",
              "      <td>1.68</td>\n",
              "      <td>1.55</td>\n",
              "      <td>1.58</td>\n",
              "      <td>1.57</td>\n",
              "      <td>0.10</td>\n",
              "    </tr>\n",
              "    <tr>\n",
              "      <th>6</th>\n",
              "      <td>63.2</td>\n",
              "      <td>1.64</td>\n",
              "      <td>1.64</td>\n",
              "      <td>1.70</td>\n",
              "      <td>1.82</td>\n",
              "      <td>1.74</td>\n",
              "      <td>1.71</td>\n",
              "      <td>0.11</td>\n",
              "    </tr>\n",
              "    <tr>\n",
              "      <th>7</th>\n",
              "      <td>72.4</td>\n",
              "      <td>1.85</td>\n",
              "      <td>1.78</td>\n",
              "      <td>1.82</td>\n",
              "      <td>1.80</td>\n",
              "      <td>1.82</td>\n",
              "      <td>1.81</td>\n",
              "      <td>0.04</td>\n",
              "    </tr>\n",
              "    <tr>\n",
              "      <th>8</th>\n",
              "      <td>86.5</td>\n",
              "      <td>1.92</td>\n",
              "      <td>1.92</td>\n",
              "      <td>1.94</td>\n",
              "      <td>1.95</td>\n",
              "      <td>1.95</td>\n",
              "      <td>1.94</td>\n",
              "      <td>0.02</td>\n",
              "    </tr>\n",
              "  </tbody>\n",
              "</table>\n",
              "</div>"
            ],
            "text/plain": [
              "      L    T1    T2    T3    T4    T5   ave   unc\n",
              "0  26.4  1.09  1.13  1.08  1.06  1.09  1.09  0.04\n",
              "1  35.4  1.33  1.27  1.32  1.25  1.22  1.28  0.05\n",
              "2  38.7  1.33  1.36  1.41  1.33  1.25  1.34  0.08\n",
              "3  46.6  1.46  1.40  1.34  1.45  1.29  1.39  0.10\n",
              "4  52.2  1.64  1.57  1.56  1.55  1.60  1.58  0.05\n",
              "5  57.3  1.55  1.50  1.68  1.55  1.58  1.57  0.10\n",
              "6  63.2  1.64  1.64  1.70  1.82  1.74  1.71  0.11\n",
              "7  72.4  1.85  1.78  1.82  1.80  1.82  1.81  0.04\n",
              "8  86.5  1.92  1.92  1.94  1.95  1.95  1.94  0.02"
            ]
          },
          "metadata": {
            "tags": []
          },
          "execution_count": 54
        }
      ]
    },
    {
      "cell_type": "code",
      "metadata": {
        "id": "aMxdH-2DlQDx",
        "colab_type": "code",
        "colab": {}
      },
      "source": [
        "X, y = np.array(df)[:, 0], np.array(df)[:, 1]\n",
        "y *= y\n",
        "m = y.size"
      ],
      "execution_count": 0,
      "outputs": []
    },
    {
      "cell_type": "code",
      "metadata": {
        "id": "sijwgtYCYk3e",
        "colab_type": "code",
        "outputId": "8d8e33c9-a5e8-43c6-dd51-36aa72c5a560",
        "colab": {
          "base_uri": "https://localhost:8080/",
          "height": 286
        }
      },
      "source": [
        "plt.plot(X, y, 'ro', ms=10, mec='k')"
      ],
      "execution_count": 0,
      "outputs": [
        {
          "output_type": "execute_result",
          "data": {
            "text/plain": [
              "[<matplotlib.lines.Line2D at 0x7f52843654e0>]"
            ]
          },
          "metadata": {
            "tags": []
          },
          "execution_count": 111
        },
        {
          "output_type": "display_data",
          "data": {
            "image/png": "[encoded data removed]",
            "text/plain": [
              "<Figure size 432x288 with 1 Axes>"
            ]
          },
          "metadata": {
            "tags": []
          }
        }
      ]
    },
    {
      "cell_type": "markdown",
      "metadata": {
        "id": "EQHru8sF4X1S",
        "colab_type": "text"
      },
      "source": [
        "<a id=\"section1\"></a>\n",
        "### 1.2 Ecuacion Maestra\n",
        "\n",
        "Vimos que la multiplicacion de matrices nos da el resultado optimo:\n",
        "\n",
        "#### 2.2.1 Equaciones\n",
        "\n",
        "#### 2.2.2 Implementacion\n"
      ]
    },
    {
      "cell_type": "code",
      "metadata": {
        "id": "5Parl20D6zAJ",
        "colab_type": "code",
        "outputId": "62147788-83d9-4eca-827b-3fe773a54bd4",
        "colab": {
          "base_uri": "https://localhost:8080/",
          "height": 34
        }
      },
      "source": [
        "X"
      ],
      "execution_count": 0,
      "outputs": [
        {
          "output_type": "execute_result",
          "data": {
            "text/plain": [
              "array([26.4, 35.4, 38.7, 46.6, 52.2, 57.3, 63.2, 72.4, 86.5])"
            ]
          },
          "metadata": {
            "tags": []
          },
          "execution_count": 112
        }
      ]
    },
    {
      "cell_type": "code",
      "metadata": {
        "id": "msmPGTLVZFKc",
        "colab_type": "code",
        "colab": {}
      },
      "source": [
        "X = np.stack([np.ones(m), X], axis=1)"
      ],
      "execution_count": 0,
      "outputs": []
    },
    {
      "cell_type": "code",
      "metadata": {
        "id": "uoFwRyk96i-x",
        "colab_type": "code",
        "outputId": "b61238e2-3979-4e68-82ac-d9ef968294fa",
        "colab": {
          "base_uri": "https://localhost:8080/",
          "height": 170
        }
      },
      "source": [
        "X"
      ],
      "execution_count": 0,
      "outputs": [
        {
          "output_type": "execute_result",
          "data": {
            "text/plain": [
              "array([[ 1. , 26.4],\n",
              "       [ 1. , 35.4],\n",
              "       [ 1. , 38.7],\n",
              "       [ 1. , 46.6],\n",
              "       [ 1. , 52.2],\n",
              "       [ 1. , 57.3],\n",
              "       [ 1. , 63.2],\n",
              "       [ 1. , 72.4],\n",
              "       [ 1. , 86.5]])"
            ]
          },
          "metadata": {
            "tags": []
          },
          "execution_count": 114
        }
      ]
    },
    {
      "cell_type": "code",
      "metadata": {
        "id": "E6FGk8Oj44GU",
        "colab_type": "code",
        "outputId": "e8dbf19b-17fa-44a0-c53b-36b7cfbce78a",
        "colab": {
          "base_uri": "https://localhost:8080/",
          "height": 34
        }
      },
      "source": [
        "Xt = X.transpose()\n",
        "Xt.shape"
      ],
      "execution_count": 0,
      "outputs": [
        {
          "output_type": "execute_result",
          "data": {
            "text/plain": [
              "(2, 9)"
            ]
          },
          "metadata": {
            "tags": []
          },
          "execution_count": 115
        }
      ]
    },
    {
      "cell_type": "code",
      "metadata": {
        "id": "XuS5Lp9g464c",
        "colab_type": "code",
        "outputId": "1a4a25f1-d583-41e1-f4f3-f4b56a06545d",
        "colab": {
          "base_uri": "https://localhost:8080/",
          "height": 51
        }
      },
      "source": [
        "M = Xt.dot(X)\n",
        "M"
      ],
      "execution_count": 0,
      "outputs": [
        {
          "output_type": "execute_result",
          "data": {
            "text/plain": [
              "array([[9.000000e+00, 4.787000e+02],\n",
              "       [4.787000e+02, 2.834575e+04]])"
            ]
          },
          "metadata": {
            "tags": []
          },
          "execution_count": 116
        }
      ]
    },
    {
      "cell_type": "code",
      "metadata": {
        "id": "CjvgC8gl4-iu",
        "colab_type": "code",
        "outputId": "33815a55-5919-451a-fba0-3bb8de81643e",
        "colab": {
          "base_uri": "https://localhost:8080/",
          "height": 51
        }
      },
      "source": [
        "np.dot(Xt,X)"
      ],
      "execution_count": 0,
      "outputs": [
        {
          "output_type": "execute_result",
          "data": {
            "text/plain": [
              "array([[9.000000e+00, 4.787000e+02],\n",
              "       [4.787000e+02, 2.834575e+04]])"
            ]
          },
          "metadata": {
            "tags": []
          },
          "execution_count": 117
        }
      ]
    },
    {
      "cell_type": "code",
      "metadata": {
        "id": "9aQ07S0z5BJs",
        "colab_type": "code",
        "outputId": "91274a54-5f7b-46e6-e65d-04b7ba0064ff",
        "colab": {
          "base_uri": "https://localhost:8080/",
          "height": 34
        }
      },
      "source": [
        "detM = np.linalg.det(M)\n",
        "1/detM"
      ],
      "execution_count": 0,
      "outputs": [
        {
          "output_type": "execute_result",
          "data": {
            "text/plain": [
              "3.852368012093354e-05"
            ]
          },
          "metadata": {
            "tags": []
          },
          "execution_count": 118
        }
      ]
    },
    {
      "cell_type": "code",
      "metadata": {
        "id": "-7pFtRbD5F5q",
        "colab_type": "code",
        "colab": {}
      },
      "source": [
        "Minv = np.linalg.inv(M)"
      ],
      "execution_count": 0,
      "outputs": []
    },
    {
      "cell_type": "code",
      "metadata": {
        "id": "1Gi806mA5Jqp",
        "colab_type": "code",
        "outputId": "4cdda24d-7e46-48bc-9435-29b0fc6b9db5",
        "colab": {
          "base_uri": "https://localhost:8080/",
          "height": 51
        }
      },
      "source": [
        "M.dot(Minv)"
      ],
      "execution_count": 0,
      "outputs": [
        {
          "output_type": "execute_result",
          "data": {
            "text/plain": [
              "array([[1.00000000e+00, 4.38256452e-18],\n",
              "       [2.49106291e-15, 1.00000000e+00]])"
            ]
          },
          "metadata": {
            "tags": []
          },
          "execution_count": 120
        }
      ]
    },
    {
      "cell_type": "code",
      "metadata": {
        "id": "oMjTHFdm5aYj",
        "colab_type": "code",
        "outputId": "0aa4eaa1-0d9b-4923-a9b9-54f69726ddfc",
        "colab": {
          "base_uri": "https://localhost:8080/",
          "height": 119
        }
      },
      "source": [
        "Minv.dot(Xt)"
      ],
      "execution_count": 0,
      "outputs": [
        {
          "output_type": "execute_result",
          "data": {
            "text/plain": [
              "array([[ 6.05132664e-01,  4.39161093e-01,  3.78304850e-01,\n",
              "         2.32618693e-01,  1.29347494e-01,  3.52969367e-02,\n",
              "        -7.35066488e-02, -2.43166477e-01, -5.03188605e-01],\n",
              "       [-9.28805928e-03, -6.16764119e-03, -5.02348789e-03,\n",
              "        -2.28445423e-03, -3.42860753e-04,  1.42537616e-03,\n",
              "         3.47098358e-03,  6.66074429e-03,  1.15493993e-02]])"
            ]
          },
          "metadata": {
            "tags": []
          },
          "execution_count": 121
        }
      ]
    },
    {
      "cell_type": "code",
      "metadata": {
        "id": "13e6LN-75LPR",
        "colab_type": "code",
        "outputId": "9bc5f628-4ed2-48e0-a9a8-4b8edece3dec",
        "colab": {
          "base_uri": "https://localhost:8080/",
          "height": 34
        }
      },
      "source": [
        "theta_em = Minv.dot(Xt).dot(y)\n",
        "print(theta_em)"
      ],
      "execution_count": 0,
      "outputs": [
        {
          "output_type": "stream",
          "text": [
            "[0.20862232 0.04150929]\n"
          ],
          "name": "stdout"
        }
      ]
    },
    {
      "cell_type": "markdown",
      "metadata": {
        "id": "Ty4GCQ1TB4QW",
        "colab_type": "text"
      },
      "source": [
        "que coincide con el resultado que obtenemos usando la librearia `scikit`"
      ]
    },
    {
      "cell_type": "code",
      "metadata": {
        "id": "9CiYqWb6B94E",
        "colab_type": "code",
        "colab": {}
      },
      "source": [
        "from sklearn.linear_model import LinearRegression\n",
        "lr = LinearRegression()"
      ],
      "execution_count": 0,
      "outputs": []
    },
    {
      "cell_type": "code",
      "metadata": {
        "id": "cfF-tpyeCDk_",
        "colab_type": "code",
        "colab": {}
      },
      "source": [
        "x = X[:,1].reshape(-1,1)\n",
        "regr = lr.fit(x, y)\n",
        "y_pred = lr.predict(x)"
      ],
      "execution_count": 0,
      "outputs": []
    },
    {
      "cell_type": "code",
      "metadata": {
        "id": "UGOboHp7C6Bw",
        "colab_type": "code",
        "outputId": "e99541be-debc-47a2-ef9c-c0268428a1fc",
        "colab": {
          "base_uri": "https://localhost:8080/",
          "height": 34
        }
      },
      "source": [
        "regr.coef_[0]"
      ],
      "execution_count": 0,
      "outputs": [
        {
          "output_type": "execute_result",
          "data": {
            "text/plain": [
              "0.04150929422306598"
            ]
          },
          "metadata": {
            "tags": []
          },
          "execution_count": 169
        }
      ]
    },
    {
      "cell_type": "markdown",
      "metadata": {
        "id": "QV13SlG3ZrM3",
        "colab_type": "text"
      },
      "source": [
        "<a id=\"section2\"></a>\n",
        "### 2.2 Descenso por el Gradiente\n",
        "\n",
        "En esta parte vana ajustar los parametros de regresion lineal $\\theta$ al conjunto de datos usando descenso por el gradiente.\n",
        "\n",
        "#### 2.2.1 Ecuaciones\n",
        "\n",
        "El objetivo de regresion es minimizar la funcion costo\n",
        "\n",
        "$$ J(\\theta) = \\frac{1}{2m} \\sum_{i=1}^m \\left( h_{\\theta}(x^{(i)}) - y^{(i)}\\right)^2$$\n",
        "\n",
        "con la hipotesis $h_\\theta(x)$ dada por el modelo lineal\n",
        "$$ h_\\theta(x) = \\theta^Tx = \\theta_0 + \\theta_1 x_1$$\n",
        "\n",
        "Los parametros del modelo, los valores de $\\theta_j$ se ajustan a modo de minimizar el costo $J(\\theta)$. Una forma de hacerlo es usando el algoritmo del descenso por el gradiente, en el cual en cada iteracion se actualizan los parametros por medio de la regla \n",
        "\n",
        "$$ \\theta_j = \\theta_j - \\alpha \\frac{1}{m} \\sum_{i=1}^m \\left( h_\\theta(x^{(i)}) - y^{(i)}\\right)x_j^{(i)} \\qquad \\text{los valores } \\theta_j \\text{ se actualizan simultaneamenta para todo } j$$\n",
        "\n",
        "En cada paso del descenso por el gradiente, los parametros $\\theta_j$ se acercan a los valores optimos que daran el menor costo J($\\theta$). Este algoritmo se conoce como descenso por el grandiente en grupo (batch gradient descent).\n",
        "\n",
        "<div class=\"alert alert-block alert-warning\">\n",
        "**Nota de Implementacion:** Cada instancia sera guardada en un renglon de la matriz $X$. Para tomar en cuenta el termino constante del modelo lineal, agregamo suna columna adicional con valores de uno . De este modo $\\theta_0$ corresponde a otra caracteristica del conjunto de datos.\n",
        "</div>\n",
        "\n",
        "\n",
        "#### 2.2.2 Implementacion\n",
        "\n",
        "Ya construimos la matriz para usarla con regresion lineal. En las siguientes lineas de codigo vamos a imlementar el algoritmo paso por paso usando iteraciones y listas, no aprovecharemos la vectorizacoin de operaciones pero haciendo cada paso entenderemos lo que hace el algoritmo."
      ]
    },
    {
      "cell_type": "code",
      "metadata": {
        "id": "Pfmb6xBv5y2a",
        "colab_type": "code",
        "colab": {}
      },
      "source": [
        "# definimos una funcion que hace el producto\n",
        "def linh(x, theta):\n",
        "  return theta[0]*x[0] + theta[1]*x[1]"
      ],
      "execution_count": 0,
      "outputs": []
    },
    {
      "cell_type": "markdown",
      "metadata": {
        "id": "RTwLNofJ6Am6",
        "colab_type": "text"
      },
      "source": [
        "Que cuando aplicada a nuestra matriz  con el vector $\\theta=(0,0)$ resulta en "
      ]
    },
    {
      "cell_type": "code",
      "metadata": {
        "id": "Gd615xSk6a1f",
        "colab_type": "code",
        "outputId": "0c82e14b-4fb8-4688-8ec0-4e7e93825bec",
        "colab": {
          "base_uri": "https://localhost:8080/",
          "height": 34
        }
      },
      "source": [
        "X[0]"
      ],
      "execution_count": 0,
      "outputs": [
        {
          "output_type": "execute_result",
          "data": {
            "text/plain": [
              "array([ 1. , 26.4])"
            ]
          },
          "metadata": {
            "tags": []
          },
          "execution_count": 124
        }
      ]
    },
    {
      "cell_type": "code",
      "metadata": {
        "id": "hE3AUOyd7wYb",
        "colab_type": "code",
        "colab": {}
      },
      "source": [
        "theta=np.ones(2)"
      ],
      "execution_count": 0,
      "outputs": []
    },
    {
      "cell_type": "code",
      "metadata": {
        "id": "ulbAS2_B6AAp",
        "colab_type": "code",
        "outputId": "db8419fd-52e8-4150-efcb-98aad1509be6",
        "colab": {
          "base_uri": "https://localhost:8080/",
          "height": 34
        }
      },
      "source": [
        "linh(X[0], theta)"
      ],
      "execution_count": 0,
      "outputs": [
        {
          "output_type": "execute_result",
          "data": {
            "text/plain": [
              "27.4"
            ]
          },
          "metadata": {
            "tags": []
          },
          "execution_count": 137
        }
      ]
    },
    {
      "cell_type": "code",
      "metadata": {
        "id": "8UgcYSk76TGW",
        "colab_type": "code",
        "colab": {}
      },
      "source": [
        "hipLineal=[linh(instancias,theta) for instancias in X]"
      ],
      "execution_count": 0,
      "outputs": []
    },
    {
      "cell_type": "code",
      "metadata": {
        "id": "491Ea1sc7cgQ",
        "colab_type": "code",
        "outputId": "0b4c0b64-e7b4-4bd6-ead8-c2cdfd7b8ac9",
        "colab": {
          "base_uri": "https://localhost:8080/",
          "height": 71
        }
      },
      "source": [
        "# el error en cada instancia al usar la hipotesis lineal\n",
        "hipLineal - y"
      ],
      "execution_count": 0,
      "outputs": [
        {
          "output_type": "execute_result",
          "data": {
            "text/plain": [
              "array([26.2119, 34.6311, 37.9311, 45.4684, 50.5104, 55.8975, 61.5104,\n",
              "       69.9775, 83.8136])"
            ]
          },
          "metadata": {
            "tags": []
          },
          "execution_count": 140
        }
      ]
    },
    {
      "cell_type": "code",
      "metadata": {
        "id": "bh-ITJ377dG1",
        "colab_type": "code",
        "colab": {}
      },
      "source": [
        "# definir una funcion que evalue el error\n",
        "def error(X, y, theta):\n",
        "    '''\n",
        "    Utiliza la funcion linh y list comprehension para \n",
        "    evaluar el error sobre X para una lista de parametros theta\n",
        "    '''\n",
        "    hipl = [linh(instancias,theta) for instancias in X]\n",
        "    return hipl - y"
      ],
      "execution_count": 0,
      "outputs": []
    },
    {
      "cell_type": "code",
      "metadata": {
        "id": "Kh0cKWA39pD5",
        "colab_type": "code",
        "outputId": "2baa2b9e-0372-4c2f-fe1d-443b0ae90089",
        "colab": {
          "base_uri": "https://localhost:8080/",
          "height": 71
        }
      },
      "source": [
        "error(X, y, theta)"
      ],
      "execution_count": 0,
      "outputs": [
        {
          "output_type": "execute_result",
          "data": {
            "text/plain": [
              "array([26.2119, 34.6311, 37.9311, 45.4684, 50.5104, 55.8975, 61.5104,\n",
              "       69.9775, 83.8136])"
            ]
          },
          "metadata": {
            "tags": []
          },
          "execution_count": 142
        }
      ]
    },
    {
      "cell_type": "markdown",
      "metadata": {
        "id": "T-_u8Dzw9xsv",
        "colab_type": "text"
      },
      "source": [
        "Ahora podemos calcular el error que realizamos al usar la hipotesis en cada instancia "
      ]
    },
    {
      "cell_type": "code",
      "metadata": {
        "id": "h9922DvO9qxQ",
        "colab_type": "code",
        "outputId": "92dbedd8-4e54-4806-eac5-e46da22f5c29",
        "colab": {
          "base_uri": "https://localhost:8080/",
          "height": 71
        }
      },
      "source": [
        "# error al suponer la hipotesis en cada instancia de X\n",
        "e = error(X, y, [1,1])\n",
        "e"
      ],
      "execution_count": 0,
      "outputs": [
        {
          "output_type": "execute_result",
          "data": {
            "text/plain": [
              "array([26.2119, 34.6311, 37.9311, 45.4684, 50.5104, 55.8975, 61.5104,\n",
              "       69.9775, 83.8136])"
            ]
          },
          "metadata": {
            "tags": []
          },
          "execution_count": 143
        }
      ]
    },
    {
      "cell_type": "markdown",
      "metadata": {
        "id": "043Pefhe97GX",
        "colab_type": "text"
      },
      "source": [
        "Luego obtuvimos los terminos de las derivada respecto a cada parametro por separado, actualizamos los parametros usando el algoritmos y obtenemos un nuevo valor del vector como sigue"
      ]
    },
    {
      "cell_type": "code",
      "metadata": {
        "id": "n48u-PTc-MKo",
        "colab_type": "code",
        "outputId": "0cbe8016-881a-4f16-cd8b-d3e85c9dbc5e",
        "colab": {
          "base_uri": "https://localhost:8080/",
          "height": 51
        }
      },
      "source": [
        "print(theta)\n",
        "djd0 = e*X[::,0]\n",
        "djd1 = e*X[::,1]\n",
        "dJ = np.array([djd0.sum(), djd1.sum()])\n",
        "theta = theta - alpha*dJ\n",
        "print(theta)"
      ],
      "execution_count": 0,
      "outputs": [
        {
          "output_type": "stream",
          "text": [
            "[1. 1.]\n",
            "[ 0.95340481 -1.75479704]\n"
          ],
          "name": "stdout"
        }
      ]
    },
    {
      "cell_type": "markdown",
      "metadata": {
        "id": "5lOibk_5-Rgy",
        "colab_type": "text"
      },
      "source": [
        "Este es un paso del algoritmo, ahora trataremos de generalizarlo usando una implementacion vectorial"
      ]
    },
    {
      "cell_type": "markdown",
      "metadata": {
        "id": "Kq4raQUsZ0bz",
        "colab_type": "text"
      },
      "source": [
        "<a id=\"section2\"></a>\n",
        "#### 2.2.3 Calculando el costo $J(\\theta)$\n",
        "\n",
        "Es conveniente tener un metodo para calcular la funcion costo $J(\\theta)$ conforme usamos el descenso por el gradiente, con el fin de monitorear la convergencia del algoritmo. La siguiente funcion calcula $J(\\theta)$ para usarse como monitoreo en el algoritmo. \n",
        "\n",
        "Noten que en el ejercicio anterior usamos el error, ahora usaremos el valor de la function para monitorear convergencia.\n",
        "\n",
        "Recordemos que  $X$ y $y$ no son escalares, son matrices: $X$ es una matriz cuyos renglones representan los ejemplos (instancias) de un conjunto de entrenamiento y $y$ es un vector cuyas entradas representan el valor de cada renglon de $X$.\n",
        "<a id=\"computeCost\"></a>"
      ]
    },
    {
      "cell_type": "code",
      "metadata": {
        "id": "akAJAxStZyQf",
        "colab_type": "code",
        "colab": {}
      },
      "source": [
        "def calculaCosto(X, y, theta):\n",
        "  \n",
        "  m = y.size\n",
        "  \n",
        "  J = 0\n",
        "  \n",
        "  h = np.dot(X, theta)\n",
        "  \n",
        "  J = (1/(2*m)) * np.sum(np.square(np.dot(X, theta) - y))\n",
        "  \n",
        "  return J"
      ],
      "execution_count": 0,
      "outputs": []
    },
    {
      "cell_type": "markdown",
      "metadata": {
        "id": "6eQG2kpXbe9l",
        "colab_type": "text"
      },
      "source": [
        "El valor de la funcion costo para $\\theta=[0.,0]$\n"
      ]
    },
    {
      "cell_type": "code",
      "metadata": {
        "id": "h7l-tsz1atSm",
        "colab_type": "code",
        "outputId": "e5a2755b-0f44-447f-ffd1-bb222e214dea",
        "colab": {
          "base_uri": "https://localhost:8080/",
          "height": 34
        }
      },
      "source": [
        "calculaCosto(X, y, np.zeros(X.shape[1]))"
      ],
      "execution_count": 0,
      "outputs": [
        {
          "output_type": "execute_result",
          "data": {
            "text/plain": [
              "3.208681576111111"
            ]
          },
          "metadata": {
            "tags": []
          },
          "execution_count": 149
        }
      ]
    },
    {
      "cell_type": "markdown",
      "metadata": {
        "id": "gZIp_vSD_mRH",
        "colab_type": "text"
      },
      "source": [
        "El valor de la funcion costo para $\\theta=[1,1]$"
      ]
    },
    {
      "cell_type": "code",
      "metadata": {
        "id": "nuzSqEm3_nPu",
        "colab_type": "code",
        "outputId": "a5dbf1dc-f5e5-41c5-c885-d2588c8f83a0",
        "colab": {
          "base_uri": "https://localhost:8080/",
          "height": 34
        }
      },
      "source": [
        "calculaCosto(X, y, np.ones(X.shape[1]))"
      ],
      "execution_count": 0,
      "outputs": [
        {
          "output_type": "execute_result",
          "data": {
            "text/plain": [
              "1487.413939353889"
            ]
          },
          "metadata": {
            "tags": []
          },
          "execution_count": 150
        }
      ]
    },
    {
      "cell_type": "markdown",
      "metadata": {
        "id": "pMELCD3Sbrda",
        "colab_type": "text"
      },
      "source": [
        "Descenso por el gradiente"
      ]
    },
    {
      "cell_type": "code",
      "metadata": {
        "id": "bQI7WFOebcu7",
        "colab_type": "code",
        "colab": {}
      },
      "source": [
        "def desGrad(X, y, theta, alpha, num_iters):\n",
        "  \n",
        "  m = y.shape[0]\n",
        "  \n",
        "  theta = theta.copy()\n",
        "  \n",
        "  J_his = []\n",
        "  \n",
        "  for it in range(num_iters):\n",
        "    \n",
        "    theta = theta - (alpha / m) * (np.dot(X, theta) - y).dot(X)\n",
        "    \n",
        "    J_his.append(calculaCosto(X, y, theta))\n",
        "    \n",
        "  return theta, J_his"
      ],
      "execution_count": 0,
      "outputs": []
    },
    {
      "cell_type": "markdown",
      "metadata": {
        "id": "lh3JLyFz_3CG",
        "colab_type": "text"
      },
      "source": [
        "Probemos que este algoritmo efectivamente reproduce nuestra primera implementacion"
      ]
    },
    {
      "cell_type": "code",
      "metadata": {
        "id": "YBKSgiLyACce",
        "colab_type": "code",
        "outputId": "b51db2ea-1ecf-408d-e37e-378c380ffd63",
        "colab": {
          "base_uri": "https://localhost:8080/",
          "height": 51
        }
      },
      "source": [
        "theta = np.ones(X.shape[1])\n",
        "print(theta)\n",
        "\n",
        "e = error(X, y, theta) # actualiza el error\n",
        "djd0 = e*X[::,0]\n",
        "djd1 = e*X[::,1]\n",
        "dJ = np.array([djd0.sum(), djd1.sum()])\n",
        "theta = theta - alpha*dJ\n",
        "\n",
        "print(theta)"
      ],
      "execution_count": 0,
      "outputs": [
        {
          "output_type": "stream",
          "text": [
            "[1. 1.]\n",
            "[ 0.95340481 -1.75479704]\n"
          ],
          "name": "stdout"
        }
      ]
    },
    {
      "cell_type": "code",
      "metadata": {
        "id": "sRzvLZJJANCP",
        "colab_type": "code",
        "outputId": "2ac5f229-80d1-4b94-e571-247b60343c61",
        "colab": {
          "base_uri": "https://localhost:8080/",
          "height": 51
        }
      },
      "source": [
        "theta = np.ones(X.shape[1])\n",
        "print(theta)\n",
        "\n",
        "theta, J = desGrad(X, y, theta, alpha, 1)\n",
        "\n",
        "print(theta)"
      ],
      "execution_count": 0,
      "outputs": [
        {
          "output_type": "stream",
          "text": [
            "[1. 1.]\n",
            "[0.99482276 0.69391144]\n"
          ],
          "name": "stdout"
        }
      ]
    },
    {
      "cell_type": "markdown",
      "metadata": {
        "id": "7Su8dj9zAbki",
        "colab_type": "text"
      },
      "source": [
        "<div class=\"alert alert-block alert-warning\">Porque no son iguales?\n",
        "</div>\n"
      ]
    },
    {
      "cell_type": "code",
      "metadata": {
        "id": "T_2SXLdLBEA_",
        "colab_type": "code",
        "outputId": "095b5989-fd8e-40ae-8a72-8863436049fb",
        "colab": {
          "base_uri": "https://localhost:8080/",
          "height": 51
        }
      },
      "source": [
        "theta = np.ones(X.shape[1])\n",
        "print(theta)\n",
        "\n",
        "e = error(X, y, theta) # actualiza el error\n",
        "djd0 = e*X[::,0]\n",
        "djd1 = e*X[::,1]\n",
        "dJ = np.array([djd0.sum(), djd1.sum()])\n",
        "theta = theta - (alpha / m)*dJ\n",
        "\n",
        "print(theta)"
      ],
      "execution_count": 0,
      "outputs": [
        {
          "output_type": "stream",
          "text": [
            "[1. 1.]\n",
            "[0.99482276 0.69391144]\n"
          ],
          "name": "stdout"
        }
      ]
    },
    {
      "cell_type": "markdown",
      "metadata": {
        "id": "HQtOyvyYBk84",
        "colab_type": "text"
      },
      "source": [
        "Resuelto ese asunto, iteramos el algoritmo hasta el cansancio"
      ]
    },
    {
      "cell_type": "code",
      "metadata": {
        "id": "GpifqE7tcaNR",
        "colab_type": "code",
        "outputId": "e02b6b94-1cf6-4a93-9296-a9d6894423a2",
        "colab": {
          "base_uri": "https://localhost:8080/",
          "height": 34
        }
      },
      "source": [
        "theta = np.zeros(X.shape[1])\n",
        "\n",
        "iteraciones = 15000\n",
        "alpha = 0.0001\n",
        "\n",
        "theta, J = desGrad(X, y, theta, alpha, iteraciones)\n",
        "\n",
        "print(theta)"
      ],
      "execution_count": 0,
      "outputs": [
        {
          "output_type": "stream",
          "text": [
            "[0.03017569 0.04452298]\n"
          ],
          "name": "stdout"
        }
      ]
    },
    {
      "cell_type": "markdown",
      "metadata": {
        "id": "QRSGFPZ0Bswi",
        "colab_type": "text"
      },
      "source": [
        "Y graficamos nuestras soluciones"
      ]
    },
    {
      "cell_type": "code",
      "metadata": {
        "id": "Lb0SecTJzckK",
        "colab_type": "code",
        "outputId": "8759a40c-179c-4a35-ad26-7921fbf41eea",
        "colab": {
          "base_uri": "https://localhost:8080/",
          "height": 269
        }
      },
      "source": [
        "plt.plot(X[:, 1], y, 'ro', ms=10, mec='k')\n",
        "plt.plot(X[:, 1], np.dot(X, theta), '-')\n",
        "plt.plot(x, y_pred, color='blue', linewidth=3)\n",
        "plt.legend(['Datos', 'DG', 'EM']);"
      ],
      "execution_count": 0,
      "outputs": [
        {
          "output_type": "display_data",
          "data": {
            "image/png": "[encoded data removed]",
            "text/plain": [
              "<Figure size 432x288 with 1 Axes>"
            ]
          },
          "metadata": {
            "tags": []
          }
        }
      ]
    },
    {
      "cell_type": "code",
      "metadata": {
        "id": "3-Tsp3QoCkxo",
        "colab_type": "code",
        "outputId": "000dddf2-d24b-4f88-c368-5cdb5a7c1ecf",
        "colab": {
          "base_uri": "https://localhost:8080/",
          "height": 68
        }
      },
      "source": [
        "print([regr.intercept_, regr.coef_[0]])\n",
        "print(theta_em)\n",
        "print(theta)\n"
      ],
      "execution_count": 0,
      "outputs": [
        {
          "output_type": "stream",
          "text": [
            "[0.20862231726870162, 0.04150929422306598]\n",
            "[0.20862232 0.04150929]\n",
            "[0.03017569 0.04452298]\n"
          ],
          "name": "stdout"
        }
      ]
    },
    {
      "cell_type": "markdown",
      "metadata": {
        "id": "HURVwAkAENov",
        "colab_type": "text"
      },
      "source": [
        "Visualizando la funcion costo"
      ]
    },
    {
      "cell_type": "code",
      "metadata": {
        "id": "RCA13VJGCxO_",
        "colab_type": "code",
        "colab": {}
      },
      "source": [
        "# grid over which we will calculate J\n",
        "theta0_vals = np.linspace(-10, 10, 100)\n",
        "theta1_vals = np.linspace(-1, 1, 100)\n",
        "\n",
        "# initialize J_vals to a matrix of 0's\n",
        "J_vals = np.zeros((theta0_vals.shape[0], theta1_vals.shape[0]))\n",
        "\n",
        "# Fill out J_vals\n",
        "for i, theta0 in enumerate(theta0_vals):\n",
        "    for j, theta1 in enumerate(theta1_vals):\n",
        "        J_vals[i, j] = calculaCosto(X, y, [theta0, theta1])"
      ],
      "execution_count": 0,
      "outputs": []
    },
    {
      "cell_type": "code",
      "metadata": {
        "id": "-2gd0L5FEp8b",
        "colab_type": "code",
        "colab": {}
      },
      "source": [
        "# Because of the way meshgrids work in the surf command, we need to\n",
        "# transpose J_vals before calling surf, or else the axes will be flipped\n",
        "J_vals = J_vals.T\n"
      ],
      "execution_count": 0,
      "outputs": []
    },
    {
      "cell_type": "code",
      "metadata": {
        "id": "rba0RnIbEuFQ",
        "colab_type": "code",
        "outputId": "26ad7b7c-44c1-4627-9059-dbd4cca258cd",
        "colab": {
          "base_uri": "https://localhost:8080/",
          "height": 320
        }
      },
      "source": [
        "from mpl_toolkits.mplot3d import Axes3D  # needed to plot 3-D surfaces\n",
        "\n",
        "# surface plot\n",
        "fig = plt.figure(figsize=(12, 5))\n",
        "ax = fig.add_subplot(121, projection='3d')\n",
        "ax.plot_surface(theta0_vals, theta1_vals, J_vals, cmap='viridis')\n",
        "plt.xlabel('theta0')\n",
        "plt.ylabel('theta1')\n",
        "plt.title('Surface')\n"
      ],
      "execution_count": 0,
      "outputs": [
        {
          "output_type": "execute_result",
          "data": {
            "text/plain": [
              "Text(0.5, 0.92, 'Surface')"
            ]
          },
          "metadata": {
            "tags": []
          },
          "execution_count": 183
        },
        {
          "output_type": "display_data",
          "data": {
            "image/png": "[encoded data removed]",
            "text/plain": [
              "<Figure size 864x360 with 1 Axes>"
            ]
          },
          "metadata": {
            "tags": []
          }
        }
      ]
    },
    {
      "cell_type": "code",
      "metadata": {
        "id": "Yyi2lbQfEwoA",
        "colab_type": "code",
        "outputId": "13a14ceb-b85e-4c67-85d4-434afadc1241",
        "colab": {
          "base_uri": "https://localhost:8080/",
          "height": 295
        }
      },
      "source": [
        "\n",
        "# contour plot\n",
        "# Plot J_vals as 15 contours spaced logarithmically between 0.01 and 100\n",
        "ax = plt.subplot(122)\n",
        "plt.contour(theta0_vals, theta1_vals, J_vals, linewidths=2, cmap='viridis', levels=np.logspace(-2, 3, 20))\n",
        "plt.xlabel('theta0')\n",
        "plt.ylabel('theta1')\n",
        "plt.plot(theta[0], theta[1], 'ro', ms=10, lw=2)\n",
        "plt.title('Contour, showing minimum')\n",
        "pass"
      ],
      "execution_count": 0,
      "outputs": [
        {
          "output_type": "display_data",
          "data": {
            "image/png": "[encoded data removed]",
            "text/plain": [
              "<Figure size 432x288 with 1 Axes>"
            ]
          },
          "metadata": {
            "tags": []
          }
        }
      ]
    },
    {
      "cell_type": "markdown",
      "metadata": {
        "id": "Uo55HdEoFBua",
        "colab_type": "text"
      },
      "source": [
        "## 3 Regresion lineal con multiples variables\n",
        "\n",
        "En esta parte vamos a implementar regresion con multiples variables para predecir los precios de las casas. \n",
        "\n",
        "El archivo de texto `Data/ex1data2.txt` contiene un conjunto de entrenamiento de precios de casas en Portland, Oregon. La primera columna representa el area de la construccion (en pies cuadrados), la segunda columna el numero de recamaras y la tercera el precio de venta.\n",
        "\n",
        "<a id=\"section3\"></a>\n",
        "\n",
        "### 3.1 Normalizacion\n",
        "\n",
        "Comenzamos por explorar el conjunto de datos. Viendo los valores notamos que las dimensiones de las casas son del orden de 1000 veces mas grandes que el numero de cuartos. Esperamos que esto se vea relfejado de alguna forma....vamos a ver cual "
      ]
    },
    {
      "cell_type": "code",
      "metadata": {
        "id": "tJcDeuXXEhbG",
        "colab_type": "code",
        "colab": {}
      },
      "source": [
        "import numpy as np\n",
        "import matplotlib.pyplot as plt\n",
        "import pandas as pd\n",
        "from io import StringIO\n"
      ],
      "execution_count": 0,
      "outputs": []
    },
    {
      "cell_type": "code",
      "metadata": {
        "id": "K0tI1hK4E6qO",
        "colab_type": "code",
        "colab": {}
      },
      "source": [
        "# load data\n",
        "txt='''2104,3,399900\n",
        "1600,3,329900\n",
        "2400,3,369000\n",
        "1416,2,232000\n",
        "3000,4,539900\n",
        "1985,4,299900\n",
        "1534,3,314900\n",
        "1427,3,198999\n",
        "1380,3,212000\n",
        "1494,3,242500\n",
        "1940,4,239999\n",
        "2000,3,347000\n",
        "1890,3,329999\n",
        "4478,5,699900\n",
        "1268,3,259900\n",
        "2300,4,449900\n",
        "1320,2,299900\n",
        "1236,3,199900\n",
        "2609,4,499998\n",
        "3031,4,599000\n",
        "1767,3,252900\n",
        "1888,2,255000\n",
        "1604,3,242900\n",
        "1962,4,259900\n",
        "3890,3,573900\n",
        "1100,3,249900\n",
        "1458,3,464500\n",
        "2526,3,469000\n",
        "2200,3,475000\n",
        "2637,3,299900\n",
        "1839,2,349900\n",
        "1000,1,169900\n",
        "2040,4,314900\n",
        "3137,3,579900\n",
        "1811,4,285900\n",
        "1437,3,249900\n",
        "1239,3,229900\n",
        "2132,4,345000\n",
        "4215,4,549000\n",
        "2162,4,287000\n",
        "1664,2,368500\n",
        "2238,3,329900\n",
        "2567,4,314000\n",
        "1200,3,299000\n",
        "852,2,179900\n",
        "1852,4,299900\n",
        "1203,3,239500'''"
      ],
      "execution_count": 0,
      "outputs": []
    },
    {
      "cell_type": "code",
      "metadata": {
        "id": "sFf_uhSHc5an",
        "colab_type": "code",
        "colab": {}
      },
      "source": [
        "c = StringIO(txt)"
      ],
      "execution_count": 0,
      "outputs": []
    },
    {
      "cell_type": "code",
      "metadata": {
        "id": "UgwuBVhZdPxJ",
        "colab_type": "code",
        "outputId": "08b3cfe6-b78c-4755-8b54-7d1f72e76fa3",
        "colab": {
          "base_uri": "https://localhost:8080/",
          "height": 221
        }
      },
      "source": [
        "data = np.loadtxt(c, delimiter=',')\n",
        "X = data[:, :2]\n",
        "y = data[:, 2]\n",
        "m = y.size\n",
        "# print out some data points\n",
        "print('{:>8s}{:>8s}{:>10s}'.format('X[:,0]', 'X[:, 1]', 'y'))\n",
        "print('-'*26)\n",
        "for i in range(10):\n",
        "    print('{:8.0f}{:8.0f}{:10.0f}'.format(X[i, 0], X[i, 1], y[i]))"
      ],
      "execution_count": 0,
      "outputs": [
        {
          "output_type": "stream",
          "text": [
            "  X[:,0] X[:, 1]         y\n",
            "--------------------------\n",
            "    2104       3    399900\n",
            "    1600       3    329900\n",
            "    2400       3    369000\n",
            "    1416       2    232000\n",
            "    3000       4    539900\n",
            "    1985       4    299900\n",
            "    1534       3    314900\n",
            "    1427       3    198999\n",
            "    1380       3    212000\n",
            "    1494       3    242500\n"
          ],
          "name": "stdout"
        }
      ]
    },
    {
      "cell_type": "code",
      "metadata": {
        "id": "LyVhEC8jkaCQ",
        "colab_type": "code",
        "colab": {}
      },
      "source": [
        "X = np.insert(X, 0, 1, axis = 1)"
      ],
      "execution_count": 0,
      "outputs": []
    },
    {
      "cell_type": "markdown",
      "metadata": {
        "id": "HThMNkKyTlOU",
        "colab_type": "text"
      },
      "source": [
        "#### Tarea\n",
        "\n",
        "Realizar una descripcion general de los datos contenidos en la matriz X usando las funciones de la libreria `pandas`"
      ]
    },
    {
      "cell_type": "markdown",
      "metadata": {
        "id": "rf14tNXiVWk2",
        "colab_type": "text"
      },
      "source": [
        ""
      ]
    },
    {
      "cell_type": "markdown",
      "metadata": {
        "id": "fWLhdvG5enBi",
        "colab_type": "text"
      },
      "source": [
        "Usaremos el algoritmo del descenso para ajustar los parametros a un modelo lineal"
      ]
    },
    {
      "cell_type": "code",
      "metadata": {
        "id": "K1zN_td-Vjwo",
        "colab_type": "code",
        "colab": {}
      },
      "source": [
        "regr.coef_\n",
        "regr.intercept_"
      ],
      "execution_count": 0,
      "outputs": []
    },
    {
      "cell_type": "code",
      "metadata": {
        "id": "x45uzkbMVxdE",
        "colab_type": "code",
        "colab": {}
      },
      "source": [
        "def calculaCosto(X, y, theta):\n",
        "  \n",
        "  m = y.size\n",
        "  \n",
        "  J = 0\n",
        "  \n",
        "  h = np.dot(X, theta)\n",
        "  \n",
        "  J = (1/(2*m)) * np.sum(np.square(np.dot(X, theta) - y))\n",
        "  \n",
        "  return J"
      ],
      "execution_count": 0,
      "outputs": []
    },
    {
      "cell_type": "code",
      "metadata": {
        "id": "Ytkr2uNaV4mk",
        "colab_type": "code",
        "colab": {}
      },
      "source": [
        "def desGrad(X, y, theta, alpha, num_iters):\n",
        "  \n",
        "  m = y.shape[0]\n",
        "  \n",
        "  theta = theta.copy()\n",
        "  \n",
        "  J_his = []\n",
        "  \n",
        "  for it in range(num_iters):\n",
        "    \n",
        "    theta = theta - (alpha / m) * (np.dot(X, theta) - y).dot(X)\n",
        "    \n",
        "    J_his.append(calculaCosto(X, y, theta))\n",
        "    \n",
        "  return theta, J_his"
      ],
      "execution_count": 0,
      "outputs": []
    },
    {
      "cell_type": "code",
      "metadata": {
        "id": "P3RGaPl0cbbH",
        "colab_type": "code",
        "outputId": "9b96151f-3159-4133-90a1-eb96438bbdc7",
        "colab": {
          "base_uri": "https://localhost:8080/",
          "height": 34
        }
      },
      "source": [
        "theta = np.random.rand(X.shape[1])\n",
        "\n",
        "iteraciones = 1500\n",
        "alpha = 0.0000001\n",
        "\n",
        "theta, J = desGrad(X, y, theta, alpha, iteraciones)\n",
        "\n",
        "print(theta)"
      ],
      "execution_count": 0,
      "outputs": [
        {
          "output_type": "stream",
          "text": [
            "[  1.90657496 165.37757012   3.34297719]\n"
          ],
          "name": "stdout"
        }
      ]
    },
    {
      "cell_type": "code",
      "metadata": {
        "id": "Wl3AGVeqgMaA",
        "colab_type": "code",
        "colab": {}
      },
      "source": [
        "from sklearn.linear_model import LinearRegression\n",
        "lr = LinearRegression()"
      ],
      "execution_count": 0,
      "outputs": []
    },
    {
      "cell_type": "code",
      "metadata": {
        "id": "cw1jOee4eiMj",
        "colab_type": "code",
        "outputId": "d232f435-e64f-4e03-f01f-d9dee5812ec0",
        "colab": {
          "base_uri": "https://localhost:8080/",
          "height": 51
        }
      },
      "source": [
        "regr = lr.fit(X, y)\n",
        "print(regr.coef_)\n",
        "print(regr.intercept_)"
      ],
      "execution_count": 0,
      "outputs": [
        {
          "output_type": "stream",
          "text": [
            "[  139.21067402 -8738.01911233]\n",
            "89597.90954279754\n"
          ],
          "name": "stdout"
        }
      ]
    },
    {
      "cell_type": "code",
      "metadata": {
        "id": "JAcAcu3jgfR0",
        "colab_type": "code",
        "outputId": "726ee4b8-c159-4e00-b4c2-584369469ce2",
        "colab": {
          "base_uri": "https://localhost:8080/",
          "height": 293
        }
      },
      "source": [
        "plt.plot(J)"
      ],
      "execution_count": 0,
      "outputs": [
        {
          "output_type": "execute_result",
          "data": {
            "text/plain": [
              "[<matplotlib.lines.Line2D at 0x7facb2f73978>]"
            ]
          },
          "metadata": {
            "tags": []
          },
          "execution_count": 17
        },
        {
          "output_type": "display_data",
          "data": {
            "image/png": "[encoded data removed]",
            "text/plain": [
              "<Figure size 432x288 with 1 Axes>"
            ]
          },
          "metadata": {
            "tags": []
          }
        }
      ]
    },
    {
      "cell_type": "code",
      "metadata": {
        "id": "1MDPs5Vdg8nP",
        "colab_type": "code",
        "colab": {}
      },
      "source": [
        ""
      ],
      "execution_count": 0,
      "outputs": []
    }
  ]
}